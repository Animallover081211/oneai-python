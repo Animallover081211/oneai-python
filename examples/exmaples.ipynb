{
 "cells": [
  {
   "cell_type": "code",
   "execution_count": null,
   "metadata": {},
   "outputs": [],
   "source": [
    "import oneai\n",
    "oneai.api_key = \"<YOUR_API_KEY>\""
   ]
  },
  {
   "cell_type": "code",
   "execution_count": null,
   "metadata": {},
   "outputs": [],
   "source": [
    "# url / string input\n",
    "url = 'https://oneai.com'\n",
    "pipeline = oneai.Pipeline(steps=[\n",
    "    oneai.skills.HtmlToArticle(),\n",
    "    oneai.skills.Names(),\n",
    "    oneai.skills.Keywords(),\n",
    "])\n",
    "\n",
    "output = pipeline.run(url)\n",
    "output.html_article.text[:100], output.html_article.names.span_texts[:5]"
   ]
  },
  {
   "cell_type": "code",
   "execution_count": null,
   "metadata": {},
   "outputs": [],
   "source": [
    "# conversation input\n",
    "# string parsing is still available via `oneai.parsing.parse_conversation()`\n",
    "conversation = [\n",
    "    oneai.Utterance('Mr. Praline', \"Mr. Praline: I wish to make a complaint!\"),\n",
    "    oneai.Utterance('Owner', \"We're closin' for lunch.\"),\n",
    "    oneai.Utterance('Mr. Praline', \"Never mind that, my lad. I wish to complain about this parrot what I purchased not half an hour ago from this very boutique.\"),\n",
    "    oneai.Utterance('Owner', \"Oh yes, the, uh, the Norwegian Blue...What's,uh...What's wrong with it?\"),\n",
    "    oneai.Utterance('Mr. Praline', \"I'll tell you what's wrong with it, my lad. 'E's dead, that's what's wrong with it!\"),\n",
    "    oneai.Utterance('Owner', \"No, no, 'e's uh,...he's resting.\"),\n",
    "]\n",
    "pipeline = oneai.Pipeline(steps=[\n",
    "    oneai.skills.Emotions(),\n",
    "    oneai.skills.Summarize(min_length=45),\n",
    "])\n",
    "\n",
    "output = pipeline.run(conversation)\n",
    "output.summary.text, output.emotions.names"
   ]
  },
  {
   "cell_type": "code",
   "execution_count": null,
   "metadata": {},
   "outputs": [],
   "source": [
    "# audio file input (sync)\n",
    "pipeline = oneai.Pipeline(steps=[\n",
    "    oneai.skills.Transcribe(),\n",
    "    oneai.skills.Topics(),\n",
    "])\n",
    "\n",
    "with open('./audio.mp3', 'rb') as inputf:\n",
    "    output = pipeline.run(inputf)\n",
    "\n",
    "output.transcription, output.transcription.topics.values"
   ]
  },
  {
   "cell_type": "code",
   "execution_count": null,
   "metadata": {},
   "outputs": [],
   "source": [
    "# audio file input (async)\n",
    "pipeline = oneai.Pipeline(steps=[\n",
    "    oneai.skills.Transcribe(),\n",
    "    oneai.skills.Topics(),\n",
    "])\n",
    "\n",
    "with open('./audio.mp3', 'rb') as inputf:\n",
    "    output = await pipeline.run_async(inputf)\n",
    "\n",
    "output.transcription, output.transcription.topics.values\n",
    "\n",
    "# # top level await is not supported within regular python environments,\n",
    "# # so the async call has to be wrapped like this\n",
    "#\n",
    "# async def main():\n",
    "#     with open('./audio.mp3', 'rb') as inputf:\n",
    "#         output = await pipeline.run_async(inputf)\n",
    "#\n",
    "# asyncio.run(main())"
   ]
  },
  {
   "cell_type": "code",
   "execution_count": null,
   "metadata": {},
   "outputs": [],
   "source": [
    "# text file input\n",
    "pipeline = oneai.Pipeline(steps=[\n",
    "    oneai.skills.Topics(),\n",
    "])\n",
    "\n",
    "with open('./text.txt', 'r') as inputf:\n",
    "    output = pipeline.run(inputf)\n",
    "\n",
    "output.topics.values"
   ]
  }
 ],
 "metadata": {
  "kernelspec": {
   "display_name": "Python 3.8.9 64-bit",
   "language": "python",
   "name": "python3"
  },
  "language_info": {
   "name": "python",
   "version": "3.8.9"
  },
  "orig_nbformat": 4,
  "vscode": {
   "interpreter": {
    "hash": "31f2aee4e71d21fbe5cf8b01ff0e069b9275f58929596ceb00d14d90e3e16cd6"
   }
  }
 },
 "nbformat": 4,
 "nbformat_minor": 2
}
